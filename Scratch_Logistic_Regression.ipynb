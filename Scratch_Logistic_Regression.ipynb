{
  "nbformat": 4,
  "nbformat_minor": 0,
  "metadata": {
    "colab": {
      "name": "Scratch_Logistic_Regression.ipynb",
      "provenance": [],
      "collapsed_sections": []
    },
    "kernelspec": {
      "name": "python3",
      "display_name": "Python 3"
    }
  },
  "cells": [
    {
      "cell_type": "markdown",
      "metadata": {
        "id": "C1MLLA-YDnAi"
      },
      "source": [
        "# Predicting if user will click on the advertisement or not using logistic regression."
      ]
    },
    {
      "cell_type": "markdown",
      "metadata": {
        "id": "XJoDWmTnWMyf"
      },
      "source": [
        "# Importing Libraries"
      ]
    },
    {
      "cell_type": "code",
      "metadata": {
        "id": "0iKUonOTV1Ou"
      },
      "source": [
        "import numpy as np\r\n",
        "import pandas as pd\r\n",
        "import sklearn"
      ],
      "execution_count": null,
      "outputs": []
    },
    {
      "cell_type": "markdown",
      "metadata": {
        "id": "g0t_4FDoFHge"
      },
      "source": [
        "* **Numpy:** Numpy is used to create and manipulate multi-dimension matrix.  \r\n",
        "* **Pandas:** Pandas is used for data manipulation and analysis.  \r\n",
        "* **Sklearn:** Sklearn is a simple and effective tool for machine learning and data analysis. "
      ]
    },
    {
      "cell_type": "markdown",
      "metadata": {
        "id": "xVj0KA08WQnv"
      },
      "source": [
        "# Loading and Cleaning Dataset"
      ]
    },
    {
      "cell_type": "code",
      "metadata": {
        "id": "peaLZwwEWKlB"
      },
      "source": [
        "# Loading Dataset from CSV\r\n",
        "dataset = pd.read_csv(\"/content/drive/MyDrive/AI and ML Datasets/advertising.csv\")"
      ],
      "execution_count": null,
      "outputs": []
    },
    {
      "cell_type": "markdown",
      "metadata": {
        "id": "ipiwCOloF9iD"
      },
      "source": [
        "**pd.read_csv():** It is used to read the csv file."
      ]
    },
    {
      "cell_type": "code",
      "metadata": {
        "colab": {
          "base_uri": "https://localhost:8080/",
          "height": 328
        },
        "id": "-OWG0Y0kWeeb",
        "outputId": "d0feb4a7-d11b-48d5-92b8-f41d0e23bf14"
      },
      "source": [
        "dataset.head()"
      ],
      "execution_count": null,
      "outputs": [
        {
          "output_type": "execute_result",
          "data": {
            "text/html": [
              "<div>\n",
              "<style scoped>\n",
              "    .dataframe tbody tr th:only-of-type {\n",
              "        vertical-align: middle;\n",
              "    }\n",
              "\n",
              "    .dataframe tbody tr th {\n",
              "        vertical-align: top;\n",
              "    }\n",
              "\n",
              "    .dataframe thead th {\n",
              "        text-align: right;\n",
              "    }\n",
              "</style>\n",
              "<table border=\"1\" class=\"dataframe\">\n",
              "  <thead>\n",
              "    <tr style=\"text-align: right;\">\n",
              "      <th></th>\n",
              "      <th>Time_Spent</th>\n",
              "      <th>Age</th>\n",
              "      <th>Area_Income</th>\n",
              "      <th>Daily_Internet_Usage</th>\n",
              "      <th>Ad_Topic_Line</th>\n",
              "      <th>City</th>\n",
              "      <th>Male</th>\n",
              "      <th>Country</th>\n",
              "      <th>Timestamp</th>\n",
              "      <th>Clicked_on_Ad</th>\n",
              "    </tr>\n",
              "  </thead>\n",
              "  <tbody>\n",
              "    <tr>\n",
              "      <th>0</th>\n",
              "      <td>68.95</td>\n",
              "      <td>35</td>\n",
              "      <td>61833.90</td>\n",
              "      <td>256.09</td>\n",
              "      <td>Cloned 5thgeneration orchestration</td>\n",
              "      <td>Wrightburgh</td>\n",
              "      <td>0</td>\n",
              "      <td>Tunisia</td>\n",
              "      <td>2016-03-27 00:53:11</td>\n",
              "      <td>0</td>\n",
              "    </tr>\n",
              "    <tr>\n",
              "      <th>1</th>\n",
              "      <td>80.23</td>\n",
              "      <td>31</td>\n",
              "      <td>68441.85</td>\n",
              "      <td>193.77</td>\n",
              "      <td>Monitored national standardization</td>\n",
              "      <td>West Jodi</td>\n",
              "      <td>1</td>\n",
              "      <td>Nauru</td>\n",
              "      <td>2016-04-04 01:39:02</td>\n",
              "      <td>0</td>\n",
              "    </tr>\n",
              "    <tr>\n",
              "      <th>2</th>\n",
              "      <td>69.47</td>\n",
              "      <td>26</td>\n",
              "      <td>59785.94</td>\n",
              "      <td>236.50</td>\n",
              "      <td>Organic bottom-line service-desk</td>\n",
              "      <td>Davidton</td>\n",
              "      <td>0</td>\n",
              "      <td>San Marino</td>\n",
              "      <td>2016-03-13 20:35:42</td>\n",
              "      <td>0</td>\n",
              "    </tr>\n",
              "    <tr>\n",
              "      <th>3</th>\n",
              "      <td>74.15</td>\n",
              "      <td>29</td>\n",
              "      <td>54806.18</td>\n",
              "      <td>245.89</td>\n",
              "      <td>Triple-buffered reciprocal time-frame</td>\n",
              "      <td>West Terrifurt</td>\n",
              "      <td>1</td>\n",
              "      <td>Italy</td>\n",
              "      <td>2016-01-10 02:31:19</td>\n",
              "      <td>0</td>\n",
              "    </tr>\n",
              "    <tr>\n",
              "      <th>4</th>\n",
              "      <td>68.37</td>\n",
              "      <td>35</td>\n",
              "      <td>73889.99</td>\n",
              "      <td>225.58</td>\n",
              "      <td>Robust logistical utilization</td>\n",
              "      <td>South Manuel</td>\n",
              "      <td>0</td>\n",
              "      <td>Iceland</td>\n",
              "      <td>2016-06-03 03:36:18</td>\n",
              "      <td>0</td>\n",
              "    </tr>\n",
              "  </tbody>\n",
              "</table>\n",
              "</div>"
            ],
            "text/plain": [
              "   Time_Spent  Age  Area_Income  ...     Country            Timestamp Clicked_on_Ad\n",
              "0       68.95   35     61833.90  ...     Tunisia  2016-03-27 00:53:11             0\n",
              "1       80.23   31     68441.85  ...       Nauru  2016-04-04 01:39:02             0\n",
              "2       69.47   26     59785.94  ...  San Marino  2016-03-13 20:35:42             0\n",
              "3       74.15   29     54806.18  ...       Italy  2016-01-10 02:31:19             0\n",
              "4       68.37   35     73889.99  ...     Iceland  2016-06-03 03:36:18             0\n",
              "\n",
              "[5 rows x 10 columns]"
            ]
          },
          "metadata": {
            "tags": []
          },
          "execution_count": 3
        }
      ]
    },
    {
      "cell_type": "markdown",
      "metadata": {
        "id": "qP4akvdUkffw"
      },
      "source": [
        "**Creating New Dataset with only Important and Numerical features**"
      ]
    },
    {
      "cell_type": "code",
      "metadata": {
        "id": "ZPyDOC0TkOVY"
      },
      "source": [
        "dataset = dataset[[\"Time_Spent\",\"Age\",\"Area_Income\",\"Daily_Internet_Usage\",\"Clicked_on_Ad\"]]"
      ],
      "execution_count": null,
      "outputs": []
    },
    {
      "cell_type": "markdown",
      "metadata": {
        "id": "Ltkh1rZ3k6Rg"
      },
      "source": [
        "**Checking for null value**"
      ]
    },
    {
      "cell_type": "code",
      "metadata": {
        "colab": {
          "base_uri": "https://localhost:8080/"
        },
        "id": "x2uQmDdDjJZX",
        "outputId": "052d9ec0-863d-4cf3-8425-b67d65170b83"
      },
      "source": [
        "# Checking for Null value\r\n",
        "dataset.notnull().all()"
      ],
      "execution_count": null,
      "outputs": [
        {
          "output_type": "execute_result",
          "data": {
            "text/plain": [
              "Time_Spent              True\n",
              "Age                     True\n",
              "Area_Income             True\n",
              "Daily_Internet_Usage    True\n",
              "Clicked_on_Ad           True\n",
              "dtype: bool"
            ]
          },
          "metadata": {
            "tags": []
          },
          "execution_count": 5
        }
      ]
    },
    {
      "cell_type": "markdown",
      "metadata": {
        "id": "7WCl1w10YuV_"
      },
      "source": [
        "## Creating Features and Target Array"
      ]
    },
    {
      "cell_type": "code",
      "metadata": {
        "id": "sXQ--4BUX6Tz"
      },
      "source": [
        "features = dataset.iloc[:,:-1].values"
      ],
      "execution_count": null,
      "outputs": []
    },
    {
      "cell_type": "code",
      "metadata": {
        "id": "quKDdzUsZFN1"
      },
      "source": [
        "target = dataset.iloc[:,-1].values"
      ],
      "execution_count": null,
      "outputs": []
    },
    {
      "cell_type": "code",
      "metadata": {
        "colab": {
          "base_uri": "https://localhost:8080/"
        },
        "id": "YkUaN6CiZLK3",
        "outputId": "3fadfc4f-ed32-4962-cf15-1dab982cd1f5"
      },
      "source": [
        "features.shape, target.shape"
      ],
      "execution_count": null,
      "outputs": [
        {
          "output_type": "execute_result",
          "data": {
            "text/plain": [
              "((1000, 4), (1000,))"
            ]
          },
          "metadata": {
            "tags": []
          },
          "execution_count": 8
        }
      ]
    },
    {
      "cell_type": "markdown",
      "metadata": {
        "id": "DhsLOLI_2IYF"
      },
      "source": [
        "Shape (1000,4) can be interpret as (samples,features) and shape (1000,) can be interpret as vector of shape (samples,)"
      ]
    },
    {
      "cell_type": "markdown",
      "metadata": {
        "id": "WPNbpG5RbBW6"
      },
      "source": [
        "# Dataset Preprocessing"
      ]
    },
    {
      "cell_type": "code",
      "metadata": {
        "id": "g3TBxHMXbEf0"
      },
      "source": [
        "from sklearn.model_selection import train_test_split\r\n",
        "from sklearn.preprocessing import StandardScaler"
      ],
      "execution_count": null,
      "outputs": []
    },
    {
      "cell_type": "markdown",
      "metadata": {
        "id": "jjYsYxK2nqsJ"
      },
      "source": [
        "## Splitting Datasets"
      ]
    },
    {
      "cell_type": "code",
      "metadata": {
        "id": "zZKSVV5kbSRC"
      },
      "source": [
        "X_train,X_test,y_train,y_test = train_test_split(features,target,test_size=0.2,random_state=145)"
      ],
      "execution_count": null,
      "outputs": []
    },
    {
      "cell_type": "code",
      "metadata": {
        "colab": {
          "base_uri": "https://localhost:8080/"
        },
        "id": "WpDyxd_6beYw",
        "outputId": "04d8f26e-34c4-4c95-8905-446c4b865e4d"
      },
      "source": [
        "X_train.shape, X_test.shape"
      ],
      "execution_count": null,
      "outputs": [
        {
          "output_type": "execute_result",
          "data": {
            "text/plain": [
              "((800, 4), (200, 4))"
            ]
          },
          "metadata": {
            "tags": []
          },
          "execution_count": 11
        }
      ]
    },
    {
      "cell_type": "code",
      "metadata": {
        "colab": {
          "base_uri": "https://localhost:8080/"
        },
        "id": "OicNRHu9bjP4",
        "outputId": "e6b4f11c-4064-40ee-e9f8-c3fbb9fdee40"
      },
      "source": [
        "y_train.shape, y_test.shape"
      ],
      "execution_count": null,
      "outputs": [
        {
          "output_type": "execute_result",
          "data": {
            "text/plain": [
              "((800,), (200,))"
            ]
          },
          "metadata": {
            "tags": []
          },
          "execution_count": 12
        }
      ]
    },
    {
      "cell_type": "markdown",
      "metadata": {
        "id": "FFsELCRN2lqN"
      },
      "source": [
        "## Feature Scaling"
      ]
    },
    {
      "cell_type": "code",
      "metadata": {
        "id": "MVrGaYxTmVio"
      },
      "source": [
        "scale = StandardScaler()"
      ],
      "execution_count": null,
      "outputs": []
    },
    {
      "cell_type": "code",
      "metadata": {
        "id": "gIyMsF_nmeKx"
      },
      "source": [
        "scaled_X_train = scale.fit_transform(X_train)\r\n",
        "scaled_X_test = scale.transform(X_test)"
      ],
      "execution_count": null,
      "outputs": []
    },
    {
      "cell_type": "code",
      "metadata": {
        "colab": {
          "base_uri": "https://localhost:8080/"
        },
        "id": "vNlZi4E-mmMi",
        "outputId": "146d5d08-54b9-4f38-ffea-44ecc8422aa2"
      },
      "source": [
        "scaled_X_train"
      ],
      "execution_count": null,
      "outputs": [
        {
          "output_type": "execute_result",
          "data": {
            "text/plain": [
              "array([[ 0.80133695, -1.02305448,  0.59086554,  0.74606393],\n",
              "       [-1.86600016,  0.9308201 , -1.6272745 , -0.32525132],\n",
              "       [ 1.66156272,  0.24121731, -1.39983041,  0.11444898],\n",
              "       ...,\n",
              "       [-0.6808002 , -1.82759107, -0.21560121, -0.18262126],\n",
              "       [-1.88129306,  0.35615111, -0.28861316, -0.6532096 ],\n",
              "       [ 0.04752429,  0.35615111,  1.58169619,  0.95387683]])"
            ]
          },
          "metadata": {
            "tags": []
          },
          "execution_count": 15
        }
      ]
    },
    {
      "cell_type": "markdown",
      "metadata": {
        "id": "C3pcKobhZTwe"
      },
      "source": [
        "# Scratch Implementation of Logistic Regression"
      ]
    },
    {
      "cell_type": "markdown",
      "metadata": {
        "id": "9goAoAhMudIp"
      },
      "source": [
        "In a layman's term Logistic regression can be understood as a upgrade to a linear regression. Upgrade to linear regression was addition of a **Sigmoid Function**. Sigmoid function takes the output of linear regression as a input and outputs the value between 0 and 1.\r\n",
        " \r\n",
        "Linear regression: $\\text{h}_\\theta(x) = \\theta^TX$  \r\n",
        "Logistic regression: $\\text{g}(\\text{h}_\\theta(x)) = \\frac{1}{1+e^{-\\text{h}_\\theta(x)}}$"
      ]
    },
    {
      "cell_type": "markdown",
      "metadata": {
        "id": "7rCMvIu-Eg6U"
      },
      "source": [
        "**Defining Sigmoid Function :** $\\text{g(z)} = \\frac{1}{1 + e^{-z}}$  \r\n",
        "Sigmoid Function helps to squash the output to range of 0 and 1. Input can be any number but output will be in the range of 0 and 1."
      ]
    },
    {
      "cell_type": "code",
      "metadata": {
        "id": "BpwoZ0V4ZcMy"
      },
      "source": [
        "def sigmoid(z):\r\n",
        "  return 1/(1+np.exp(-z))"
      ],
      "execution_count": null,
      "outputs": []
    },
    {
      "cell_type": "markdown",
      "metadata": {
        "id": "WxTc82I7Fe-U"
      },
      "source": [
        "**Defining   \r\n",
        "Overall Cost Function:** $\\text{J}(y,\\hat{y}) = \\frac{1}{m}\\sum_{i=1}^{m}(-y\\log(\\hat{y})-(1-y)\\log(1-\\hat{y}))$  \r\n",
        "Here, $m$ is the total no of data samples.  \r\n",
        "We use this cost function other than **MAE** and **MSE** because of the sigmoid function"
      ]
    },
    {
      "cell_type": "code",
      "metadata": {
        "id": "ZOGO6j4VcO9T"
      },
      "source": [
        "#cost function\r\n",
        "def Overall_Loss(y,y_hat):\r\n",
        "  '''\r\n",
        "    y and y_hat will have the same dim. (features, Samples)\r\n",
        "  '''\r\n",
        "  return (1/y.shape[1]) * (np.sum((-y * np.log(y_hat)) - ((1-y) * np.log(1 - y_hat))))\r\n",
        "\r\n",
        "# np.sum([[1,2,3]]) => 6"
      ],
      "execution_count": null,
      "outputs": []
    },
    {
      "cell_type": "markdown",
      "metadata": {
        "id": "aYONouKLru-w"
      },
      "source": [
        "**Steps To Calculate Cost:**  \r\n",
        "Step1: Predict output  \r\n",
        "  * $\\hat{y} = \\text{g}(\\theta^TX) = \\frac{1}{1 + e^{-\\theta^TX}}$  \r\n",
        "  \r\n",
        "Step2: Calculate Loss/Cost using target matrix ($y$) and predicted output matrix ($\\hat{y}$) \r\n",
        "  * $ loss = \\text{J}(y,\\hat{y})$"
      ]
    },
    {
      "cell_type": "code",
      "metadata": {
        "id": "lS40CNHOZPbC"
      },
      "source": [
        "def CalculateCost(X, y, theta):\r\n",
        "  '''\r\n",
        "    Shape of X : (Features, Samples)\r\n",
        "    Shape of y : (1, Samples)\r\n",
        "    Shape of theta : (Output_feature, Input_features) theta is already transposed\r\n",
        "  '''\r\n",
        "  y_hat = sigmoid(np.dot(theta, X)) # np.dot is a function for matrix multiplication\r\n",
        "  loss = Overall_Loss(y, y_hat)\r\n",
        "  return y_hat, loss"
      ],
      "execution_count": null,
      "outputs": []
    },
    {
      "cell_type": "markdown",
      "metadata": {
        "id": "NbZ4CwbhiP9F"
      },
      "source": [
        "**Calculate Gradient using** :   \r\n",
        "$\\frac{d}{d\\theta}J(y,\\hat{y}) = \\frac{1}{m}*matmul((\\hat{y}-y),X^T)$  \r\n",
        "Here, $m$ is the total no of data samples and $matmul$ represents the matrix multiplication.  \r\n",
        "\r\n",
        "$y$ represents the true targets and $\\hat{y}$ represents the predicted targets"
      ]
    },
    {
      "cell_type": "code",
      "metadata": {
        "id": "GU1c7Dx9fAa0"
      },
      "source": [
        "def CalculatetGradient(X, y, y_hat):\r\n",
        "  '''\r\n",
        "    Shape of X, y, y_hat  = (features, samples)\r\n",
        "  '''\r\n",
        "  tmp = y_hat - y\r\n",
        "  d_theta = (1 / X.shape[1]) * (np.dot( tmp, X.T))\r\n",
        "  return d_theta"
      ],
      "execution_count": null,
      "outputs": []
    },
    {
      "cell_type": "markdown",
      "metadata": {
        "id": "sJl0W62aQe40"
      },
      "source": [
        "**Initializing $\\theta$ or Weight matrix:**  \r\n",
        "To define $\\theta$ we need to know the shape of a $\\theta$. The shape of the $\\theta$ is always equal to (input_features, output_features).  \r\n",
        "  \r\n",
        "In logistic regression output feature is alway 1 so we can define $\\theta$ as (input_features,1)  \r\n",
        "\r\n",
        "$\\hat{y} = \\theta^TX$  \r\n",
        "(1,samples) = (features,1)$^T$.(features,samples)  \r\n",
        "(1,samples) = (1,features).(features,samples)  \r\n",
        "(1,samples) = (1,samples) #After matrix multiplication\r\n",
        "  "
      ]
    },
    {
      "cell_type": "code",
      "metadata": {
        "id": "BqV_kZxBeo-K"
      },
      "source": [
        "def initialize_theta(input_feature):\r\n",
        "  # shape of theta = (4 + 1, 1)  :   (Input Features + bias, Output)\r\n",
        "  theta = np.zeros((input_feature + 1, 1)) # +1 for theta_0 / bias\r\n",
        "  return theta"
      ],
      "execution_count": null,
      "outputs": []
    },
    {
      "cell_type": "code",
      "metadata": {
        "id": "2uicat0nmBbD"
      },
      "source": [
        "def fit(X, y, theta, lr=0.001, loop=100):\r\n",
        "  '''\r\n",
        "    Shape of X = (Samples, Features)\r\n",
        "    Shape of theta = (1, Features + bias) # theta is already transposed\r\n",
        "    Shape of Y is the vector of one column= (Samples,) \r\n",
        "  '''\r\n",
        "\r\n",
        "  # transposing X to match the requires shape so that we can do matrix mult. with theta transpose.\r\n",
        "  X = X.T # shape after Transpose (features, samples)\r\n",
        "\r\n",
        "  # adding 1's matrix on top of X matrix for theta_0 / bias\r\n",
        "  X = np.vstack([np.ones((1,X.shape[1])),X]) # shape after vertical stack: (features + bias, samples)\r\n",
        "\r\n",
        "  # Converting vector to matrix using reshape\r\n",
        "  y = y.reshape(1,-1) # shape after reshaping matrix: (1, samples) \r\n",
        "\r\n",
        "  loss_plot = []\r\n",
        "\r\n",
        "  # Performing Gradient descent\r\n",
        "  for i in range(loop):\r\n",
        "    y_hat, loss = CalculateCost(X, y, theta)\r\n",
        "    dw = CalculatetGradient(X, y, y_hat)\r\n",
        "    \r\n",
        "    # optimize theta parameter\r\n",
        "    theta = theta - (lr * dw)\r\n",
        "\r\n",
        "    # print losses\r\n",
        "    if i%100 == 0:\r\n",
        "      print(f\"loop : {i}, loss: {loss:.6f}\")\r\n",
        "      loss_plot.append(loss)\r\n",
        "      \r\n",
        "  print(f\"loop : {loop}, loss: {loss:.6f}\")\r\n",
        "  return loss_plot, theta.T"
      ],
      "execution_count": null,
      "outputs": []
    },
    {
      "cell_type": "code",
      "metadata": {
        "colab": {
          "base_uri": "https://localhost:8080/"
        },
        "id": "hz7-KNFF1teA",
        "outputId": "7c2addac-ff59-42ff-9c27-76aed849a584"
      },
      "source": [
        "X_train.shape"
      ],
      "execution_count": null,
      "outputs": [
        {
          "output_type": "execute_result",
          "data": {
            "text/plain": [
              "(800, 4)"
            ]
          },
          "metadata": {
            "tags": []
          },
          "execution_count": 22
        }
      ]
    },
    {
      "cell_type": "code",
      "metadata": {
        "colab": {
          "base_uri": "https://localhost:8080/"
        },
        "id": "yZDmbUQjjIs5",
        "outputId": "a1b0b67f-71dc-43ec-da41-123bb095b7e2"
      },
      "source": [
        "# calling initialize_theta() function\r\n",
        "theta = initialize_theta(X_train.shape[1])\r\n",
        "theta, theta.shape"
      ],
      "execution_count": null,
      "outputs": [
        {
          "output_type": "execute_result",
          "data": {
            "text/plain": [
              "(array([[0.],\n",
              "        [0.],\n",
              "        [0.],\n",
              "        [0.],\n",
              "        [0.]]), (5, 1))"
            ]
          },
          "metadata": {
            "tags": []
          },
          "execution_count": 23
        }
      ]
    },
    {
      "cell_type": "code",
      "metadata": {
        "colab": {
          "base_uri": "https://localhost:8080/"
        },
        "id": "qcceK6LaM3Vm",
        "outputId": "55c829fe-d21b-44dc-a881-f43d3dd97d24"
      },
      "source": [
        "# Calling fit function\r\n",
        "loss_plot, theta = fit(scaled_X_train, y_train, theta.T, lr=0.01, loop=2000)"
      ],
      "execution_count": null,
      "outputs": [
        {
          "output_type": "stream",
          "text": [
            "loop : 0, loss: 0.693147\n",
            "loop : 100, loss: 0.431302\n",
            "loop : 200, loss: 0.320813\n",
            "loop : 300, loss: 0.263721\n",
            "loop : 400, loss: 0.229562\n",
            "loop : 500, loss: 0.206992\n",
            "loop : 600, loss: 0.191007\n",
            "loop : 700, loss: 0.179096\n",
            "loop : 800, loss: 0.169873\n",
            "loop : 900, loss: 0.162512\n",
            "loop : 1000, loss: 0.156494\n",
            "loop : 1100, loss: 0.151476\n",
            "loop : 1200, loss: 0.147223\n",
            "loop : 1300, loss: 0.143569\n",
            "loop : 1400, loss: 0.140391\n",
            "loop : 1500, loss: 0.137599\n",
            "loop : 1600, loss: 0.135125\n",
            "loop : 1700, loss: 0.132915\n",
            "loop : 1800, loss: 0.130928\n",
            "loop : 1900, loss: 0.129130\n",
            "loop : 2000, loss: 0.127510\n"
          ],
          "name": "stdout"
        }
      ]
    },
    {
      "cell_type": "code",
      "metadata": {
        "colab": {
          "base_uri": "https://localhost:8080/"
        },
        "id": "Cs-hrcQD-iyw",
        "outputId": "1a0256e2-0324-4c4d-e06a-a27837bd56c2"
      },
      "source": [
        "theta, theta.shape"
      ],
      "execution_count": null,
      "outputs": [
        {
          "output_type": "execute_result",
          "data": {
            "text/plain": [
              "(array([[ 0.2340359 ],\n",
              "        [-1.43059768],\n",
              "        [ 0.73174127],\n",
              "        [-0.83978951],\n",
              "        [-1.58125691]]), (5, 1))"
            ]
          },
          "metadata": {
            "tags": []
          },
          "execution_count": 25
        }
      ]
    },
    {
      "cell_type": "code",
      "metadata": {
        "id": "hiQBhqv2d2SD"
      },
      "source": [
        "def predict(X, theta):\r\n",
        "\r\n",
        "  X = X.T # shape after transpose (Features, Samples)\r\n",
        "  X = np.vstack([np.ones((1,X.shape[1])),X])\r\n",
        "\r\n",
        "  y_hat = sigmoid(np.dot(theta.T,X))\r\n",
        "  y_hat = y_hat >= 0.5\r\n",
        "  y_hat = y_hat.astype(int)\r\n",
        "\r\n",
        "  return y_hat"
      ],
      "execution_count": null,
      "outputs": []
    },
    {
      "cell_type": "code",
      "metadata": {
        "id": "XT1kKU1rhtLj"
      },
      "source": [
        "def accuracy(y,y_hat):\r\n",
        "  return (100 - np.mean(np.abs(y_hat - y)) * 100)"
      ],
      "execution_count": null,
      "outputs": []
    },
    {
      "cell_type": "code",
      "metadata": {
        "colab": {
          "base_uri": "https://localhost:8080/"
        },
        "id": "PUGoeyuJf32-",
        "outputId": "23515392-e2c5-4d0f-a7b6-72e808c698b5"
      },
      "source": [
        "pred = predict(scaled_X_test,theta)\r\n",
        "pred.shape"
      ],
      "execution_count": null,
      "outputs": [
        {
          "output_type": "execute_result",
          "data": {
            "text/plain": [
              "(1, 200)"
            ]
          },
          "metadata": {
            "tags": []
          },
          "execution_count": 28
        }
      ]
    },
    {
      "cell_type": "code",
      "metadata": {
        "id": "vX4r7q2Fg5RS",
        "colab": {
          "base_uri": "https://localhost:8080/"
        },
        "outputId": "8b404114-7b7f-4470-d69c-f8acf6c7eb81"
      },
      "source": [
        "accuracy(y_test.reshape(1,-1),pred)"
      ],
      "execution_count": null,
      "outputs": [
        {
          "output_type": "execute_result",
          "data": {
            "text/plain": [
              "96.5"
            ]
          },
          "metadata": {
            "tags": []
          },
          "execution_count": 29
        }
      ]
    },
    {
      "cell_type": "code",
      "metadata": {
        "id": "uGax1PuspTh3"
      },
      "source": [
        "from sklearn.metrics import confusion_matrix, classification_report"
      ],
      "execution_count": null,
      "outputs": []
    },
    {
      "cell_type": "code",
      "metadata": {
        "colab": {
          "base_uri": "https://localhost:8080/"
        },
        "id": "Y3Of9ehtpazJ",
        "outputId": "68fb391a-2752-4b31-a4ad-19a0c025e6e6"
      },
      "source": [
        "confusion_matrix(y_test,pred.reshape(-1))"
      ],
      "execution_count": null,
      "outputs": [
        {
          "output_type": "execute_result",
          "data": {
            "text/plain": [
              "array([[96,  0],\n",
              "       [ 7, 97]])"
            ]
          },
          "metadata": {
            "tags": []
          },
          "execution_count": 31
        }
      ]
    },
    {
      "cell_type": "markdown",
      "metadata": {
        "id": "qcw00yXhqqoD"
      },
      "source": [
        "# Implementation with Sklearn"
      ]
    },
    {
      "cell_type": "code",
      "metadata": {
        "colab": {
          "base_uri": "https://localhost:8080/"
        },
        "id": "gNA3EwJMprBX",
        "outputId": "4e6c398b-3f65-4bbc-f012-9790fd42c222"
      },
      "source": [
        "scaled_X_train.shape, y_train.shape"
      ],
      "execution_count": null,
      "outputs": [
        {
          "output_type": "execute_result",
          "data": {
            "text/plain": [
              "((800, 4), (800,))"
            ]
          },
          "metadata": {
            "tags": []
          },
          "execution_count": 32
        }
      ]
    },
    {
      "cell_type": "code",
      "metadata": {
        "colab": {
          "base_uri": "https://localhost:8080/"
        },
        "id": "hWpaiA6Nqwrv",
        "outputId": "e8c68341-fa28-4696-c526-25377e4bd9f9"
      },
      "source": [
        "scaled_X_test.shape, y_test.shape"
      ],
      "execution_count": null,
      "outputs": [
        {
          "output_type": "execute_result",
          "data": {
            "text/plain": [
              "((200, 4), (200,))"
            ]
          },
          "metadata": {
            "tags": []
          },
          "execution_count": 33
        }
      ]
    },
    {
      "cell_type": "code",
      "metadata": {
        "colab": {
          "base_uri": "https://localhost:8080/"
        },
        "id": "SW0OcGlnq92o",
        "outputId": "bad56052-b311-4dc2-eaee-442f61f0f98c"
      },
      "source": [
        "from sklearn.linear_model import LogisticRegression\r\n",
        "model = LogisticRegression()\r\n",
        "model.fit(scaled_X_train,y_train)"
      ],
      "execution_count": null,
      "outputs": [
        {
          "output_type": "execute_result",
          "data": {
            "text/plain": [
              "LogisticRegression(C=1.0, class_weight=None, dual=False, fit_intercept=True,\n",
              "                   intercept_scaling=1, l1_ratio=None, max_iter=100,\n",
              "                   multi_class='auto', n_jobs=None, penalty='l2',\n",
              "                   random_state=None, solver='lbfgs', tol=0.0001, verbose=0,\n",
              "                   warm_start=False)"
            ]
          },
          "metadata": {
            "tags": []
          },
          "execution_count": 34
        }
      ]
    },
    {
      "cell_type": "code",
      "metadata": {
        "colab": {
          "base_uri": "https://localhost:8080/"
        },
        "id": "DcO4N8NRrGUY",
        "outputId": "a4012e0a-f4c1-4981-d7dc-3e0178141682"
      },
      "source": [
        "accuracy(y_test,model.predict(scaled_X_test))"
      ],
      "execution_count": null,
      "outputs": [
        {
          "output_type": "execute_result",
          "data": {
            "text/plain": [
              "97.0"
            ]
          },
          "metadata": {
            "tags": []
          },
          "execution_count": 35
        }
      ]
    },
    {
      "cell_type": "code",
      "metadata": {
        "colab": {
          "base_uri": "https://localhost:8080/"
        },
        "id": "uJhYm9jgr2fd",
        "outputId": "5fc7130a-f042-4352-cce7-590e137f438c"
      },
      "source": [
        "confusion_matrix(y_test,model.predict(scaled_X_test))"
      ],
      "execution_count": null,
      "outputs": [
        {
          "output_type": "execute_result",
          "data": {
            "text/plain": [
              "array([[95,  1],\n",
              "       [ 5, 99]])"
            ]
          },
          "metadata": {
            "tags": []
          },
          "execution_count": 36
        }
      ]
    },
    {
      "cell_type": "code",
      "metadata": {
        "id": "Xm51yE8otKNp"
      },
      "source": [
        ""
      ],
      "execution_count": null,
      "outputs": []
    }
  ]
}